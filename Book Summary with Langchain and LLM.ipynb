{
 "cells": [
  {
   "cell_type": "markdown",
   "metadata": {},
   "source": [
    "# powerful book summarizer using Python, Langchain and OpenAI embeddings.\n",
    "\n",
    "#### AI models, such as GPT-3 and GPT-4, are extremely powerful, but they have limitations. The context window is a significant limitation because it limits the amount of text that the model can consider at any given time. This means that you cannot simply feed an entire book into the model and expect a coherent summary. Furthermore, processing large documents can be expensive. ####"
   ]
  },
  {
   "cell_type": "markdown",
   "metadata": {},
   "source": [
    "## The Process Simplified\n",
    "### Here’s how we transform a full-length book into a concise summary:\n",
    "\n",
    "1. **Splitting & Embeddings:** \n",
    "We break down the book into smaller chunks and convert them into embeddings. This step is surprisingly affordable.\n",
    "1. **Clustering:** Next, we cluster these embeddings to find the most representative sections of the book.\n",
    "1. **Summarization:** We then summarize these key sections using the more cost-effective GPT-3.5 model.\n",
    "1. **Combining Summaries:** Finally, we use GPT-4 to stitch these summaries into one fluid narrative.\n",
    "By using GPT-4 only in the final step, we manage to keep our costs low."
   ]
  },
  {
   "cell_type": "markdown",
   "metadata": {},
   "source": [
    "## Step 1: Load the Book##\n",
    "**First, we need to read the book’s content. We’ll support PDF and EPUB formats.**"
   ]
  },
  {
   "cell_type": "code",
   "execution_count": null,
   "metadata": {},
   "outputs": [],
   "source": [
    "import os\n",
    "from langchain.document_loaders import PyPDFLoader, UnstructuredEPubLoader\n",
    "\n",
    "\n",
    "def load_book(file_obj):\n",
    "\n",
    "    # Load the book\n",
    "    loader = PyPDFLoader(file_obj)\n",
    "    pages = loader.load()\n",
    "\n",
    "    # Cut out the open and closing parts\n",
    "    # pages = pages[1:222]\n",
    "\n",
    "    # Combine the pages, and replace the tabs with spaces\n",
    "    text = \"\"\n",
    "\n",
    "    for page in pages:\n",
    "        text += page.page_content\n",
    "        \n",
    "    text = text.replace('\\t', ' ')\n",
    "    return text"
   ]
  },
  {
   "cell_type": "markdown",
   "metadata": {},
   "source": [
    "## Step 2: Split and Embed the Text##\n",
    "\n",
    "AI models have a token limit, which means they cannot process entire books at once. By breaking up the text into chunks, we ensure that each section is digestible for the AI.\n",
    "\n",
    "We will divide the text into chunks and convert them into embeddings. Embeddings convert text into a compact numerical form rapidly and with minimal computation, making the process both fast and cost-effective.\n"
   ]
  },
  {
   "cell_type": "code",
   "execution_count": 133,
   "metadata": {},
   "outputs": [],
   "source": [
    "from langchain.text_splitter import RecursiveCharacterTextSplitter\n",
    "from langchain.embeddings import OpenAIEmbeddings\n",
    "from langchain_google_genai import GoogleGenerativeAIEmbeddings\n",
    "def split_and_embed(text, openai_api_key):\n",
    "    text_splitter = RecursiveCharacterTextSplitter(separators=[\"\\n\\n\", \"\\n\", \"\\t\"], chunk_size=12000, chunk_overlap=2500)\n",
    "    docs = text_splitter.create_documents([text])\n",
    "    # embeddings = OpenAIEmbeddings(openai_api_key=openai_api_key)\n",
    "    embeddings = GoogleGenerativeAIEmbeddings(model = \"models/embedding-001\")\n",
    "    vectors = embeddings.embed_documents([x.page_content for x in docs])\n",
    "    return docs, vectors"
   ]
  },
  {
   "cell_type": "markdown",
   "metadata": {},
   "source": [
    "## Step 3: Cluster the Embeddings##\n",
    "We use KMeans clustering to group similar chunks. In my version, as shown below, I found that 11 clusters worked well for the majority of books. However, you can make changes based on your needs.\n",
    "\n",
    "Here, we've divided the entire book into chunks and then embedded them. These embeddings are grouped according to their similarity. For each group, we select the most representative embedding and map it back to the corresponding text chunk."
   ]
  },
  {
   "cell_type": "code",
   "execution_count": 134,
   "metadata": {},
   "outputs": [],
   "source": [
    "from sklearn.cluster import KMeans\n",
    "import numpy as np\n",
    "\n",
    "def cluster_embeddings(vectors, num_clusters):\n",
    "    kmeans = KMeans(n_clusters=num_clusters, random_state=42).fit(vectors)\n",
    "    closest_indices = [np.argmin(np.linalg.norm(vectors - center, axis=1)) for center in kmeans.cluster_centers_]\n",
    "    return sorted(closest_indices)"
   ]
  },
  {
   "cell_type": "markdown",
   "metadata": {},
   "source": [
    "## Step 4: Summarize the Representative Chunks\n",
    "We’ll summarize only the selected chunks using GPT-3.5"
   ]
  },
  {
   "cell_type": "code",
   "execution_count": 135,
   "metadata": {},
   "outputs": [],
   "source": [
    "from langchain.chains.summarize import load_summarize_chain\n",
    "from langchain.prompts import PromptTemplate\n",
    "from langchain_groq import ChatGroq\n",
    "\n",
    "groq_api_key=os.getenv('GROQ_API_KEY')\n",
    "\n",
    "def summarize_chunks(docs, selected_indices, openai_api_key):\n",
    "    # llm3_turbo = ChatOpenAI(temperature=0, openai_api_key=openai_api_key, max_tokens=1000, model='gpt-3.5-turbo-16k')\n",
    "    llm3_turbo=ChatGroq(groq_api_key=groq_api_key,   model_name=\"mixtral-8x7b-32768\")\n",
    "    map_prompt = \"\"\"\n",
    "    You are provided with a passage from a book. Your task is to produce a comprehensive summary of this passage. Ensure accuracy and avoid adding any interpretations or extra details not present in the original text. The summary should be at least ten paragraphs long and fully capture the essence of the passage.\n",
    "    ```{text}```\n",
    "    SUMMARY:\n",
    "    \"\"\"\n",
    "    \n",
    "    cprompt = \"\"\"\n",
    "    As a professional summarizer, create comprehensive summary of the provided passage from a book in minimum 1200 words, while adhering to these guidelines:\n",
    "    * Ensure accuracy and avoid adding any details that is not in original text\n",
    "    * Craft a summary that is detailed, thorough and in-depth, while maintaining clarity and conciseness.\n",
    "    * Incorporate main ideas and essential information, eliminating extraneous language and focusing on critical aspects.\n",
    "    * Rely strictly on the provided text, without including external information.\n",
    "    * Format the summary in paragraph form for easy understanding.\n",
    "    \n",
    "    ```{text}```\n",
    "    SUMMARY:\n",
    "    \"\"\"\n",
    "    map_prompt_template = PromptTemplate(template=map_prompt, input_variables=[\"text\"])\n",
    "    map_prompt_template2 = PromptTemplate(template=cprompt, input_variables=[\"text\"])\n",
    "    \n",
    "    selected_docs = [docs[i] for i in selected_indices]\n",
    "    summary_list = []\n",
    "\n",
    "    for doc in selected_docs:\n",
    "        chunk_summary = load_summarize_chain(llm=llm3_turbo, chain_type=\"stuff\", prompt=map_prompt_template2).run([doc])\n",
    "        summary_list.append(chunk_summary)\n",
    "    \n",
    "    return \"\\n\".join(summary_list)"
   ]
  },
  {
   "cell_type": "markdown",
   "metadata": {},
   "source": [
    "## Step 5: Create the Final Summary\n",
    "We combine the individual summaries into one final, cohesive summary using GPT-4."
   ]
  },
  {
   "cell_type": "code",
   "execution_count": 89,
   "metadata": {},
   "outputs": [],
   "source": [
    "from langchain.schema import Document\n",
    "from langchain.chat_models import ChatOpenAI\n",
    "\n",
    "def create_final_summary(summaries):#, openai_api_key):\n",
    "    llm4 = ChatGroq(groq_api_key=groq_api_key,   model_name=\"llama3-70b-8192\")\n",
    "    # llm4 = ChatOpenAI(temperature=0, openai_api_key=openai_api_key, max_tokens=3000, model='gpt-4', request_timeout=120)\n",
    "    combine_prompt = \"\"\"\n",
    "    You are given a series of summarized sections from a book. Your task is to weave these summaries into cohesive, and verbose summary. The reader should be able to understand the main events or points of the book from your summary. Ensure you retain the accuracy of the content and present it in a clear and engaging manner.\n",
    "    ```{text}```\n",
    "    COHESIVE SUMMARY:\n",
    "    \"\"\"\n",
    "    combine_prompt_template = PromptTemplate(template=combine_prompt, input_variables=[\"text\"])\n",
    "    reduce_chain = load_summarize_chain(llm=llm4, chain_type=\"stuff\", prompt=combine_prompt_template)\n",
    "    final_summary = reduce_chain.run([Document(page_content=summaries)])\n",
    "    return final_summary"
   ]
  },
  {
   "cell_type": "markdown",
   "metadata": {},
   "source": [
    "## Bringing It All Together\n",
    "Now, we combine all the steps into a single function that takes an uploaded file and generates a summary."
   ]
  },
  {
   "cell_type": "code",
   "execution_count": 136,
   "metadata": {},
   "outputs": [],
   "source": [
    "# ... (previous code for imports and functions)\n",
    "\n",
    "def generate_summary(uploaded_file, openai_api_key, num_clusters=13, verbose=False):\n",
    "    # file_extension = os.path.splitext(uploaded_file.name)[1].lower()\n",
    "    text = load_book(uploaded_file)#, file_extension)\n",
    "    docs, vectors = split_and_embed(text, openai_api_key)\n",
    "    selected_indices = cluster_embeddings(vectors, num_clusters)\n",
    "    summaries = summarize_chunks(docs, selected_indices, openai_api_key)\n",
    "    # final_summary = create_final_summary(summaries)#, openai_api_key)\n",
    "    return summaries #final_summary\n"
   ]
  },
  {
   "cell_type": "code",
   "execution_count": null,
   "metadata": {},
   "outputs": [],
   "source": []
  },
  {
   "cell_type": "markdown",
   "metadata": {},
   "source": [
    "## Testing the Summarizer\n",
    "Finally, we can test our summarizer with a book file."
   ]
  },
  {
   "cell_type": "code",
   "execution_count": 137,
   "metadata": {},
   "outputs": [
    {
     "name": "stdout",
     "output_type": "stream",
     "text": [
      "Raskolnikov, the protagonist of Fyodor Dostoevsky's \"Crime and Punishment,\" is on his way to commit a heinous act. He has decided to kill an old pawnbroker, Alyona Ivanovna, to rob her of her wealth, which he plans to use for good deeds. As he approaches her apartment, he is not as afraid as he had imagined he would be. Instead, his mind is preoccupied with various thoughts, from the refreshing effect of fountains to the reasons why people choose to live in dirty and smelly parts of town. As he passes the Yusupov garden, he contemplates the idea of extending the summer garden to the field of Mars and joining it to the garden of the Mihalovsky Palace, believing it would be a great benefit to the town. He then wonders why men are drawn to live in dirty and unpleasant areas.\n",
      "\n",
      "Suddenly, he realizes he is near the pawnbroker's apartment, and he begins to feel fear. However, he quickly dismisses the thought and focuses on the task at hand. He approaches the gate, and luckily for him, a huge wagon of hay drives in, screening him as he passes under the gateway. He slips into the yard unnoticed, and he makes his way to the staircase leading to the old woman's room. As he ascends the stairs, he listens intently, but the stairs are deserted. He reaches the fourth floor, where the old woman's flat is located. He is out of breath, and for a moment, he considers turning back. However, he quickly dismisses the thought and begins listening at the old woman's door. He hears a cautious touch on the lock and the rustle of a skirt. Someone is standing stealthily close to the lock, listening within.\n",
      "\n",
      "Raskolnikov takes a deep breath, presses his hand against his throbbing heart, and feels for the axe. He takes a moment to compose himself before ringing the doorbell. He rings twice, but there is no answer. He listens again, but there is no sound. He decides to ring a third time, this time more loudly. Suddenly, he hears the latch unfastened, and the door is opened a tiny crack. Two sharp and suspicious eyes stare at him from the darkness. Raskolnikov loses his head and nearly makes a great mistake. Fearing the old woman will be frightened by their being alone, and not hoping that the sight of him will disarm her suspicions, he takes hold of the door and draws it towards him to prevent the old woman from attempting to shut it again. Seeing this, she does not pull the door back, but she does not let go of the handle so that he almost drags her out with it onto the stairs. She stands in the doorway, not allowing him to pass. He advances straight upon her, and she steps back in alarm, trying to say something but seemingly unable to speak.\n",
      "\n",
      "\"Good evening, Alyona Ivanovna,\" he begins, trying to speak easily, but his voice breaks and shakes. \"I have come... I have brought something... but we'd better come in... to the light...\" And he passes straight into the room uninvited. The old woman runs after him, her tongue now loosened. \"Good heavens! What is it? Who is it? What do you want?\" she cries. He holds out the pledge, and the old woman glances at it for a moment but then stares intently into his eyes, maliciously and mistrustfully. He feels that he is losing his head, that he is almost frightened, so frightened that if she were to look like that and not say a word for another half-minute, he thinks he would have to run away from her.\n",
      "\n",
      "\"Why do you look at me as though you did not know me?\" he says suddenly, also with malice. \"Take it if you like, if not I'll go elsewhere, I am in a hurry.\" He had not even thought of saying this, but it was suddenly said of itself. The old woman recovers herself, and his resolute tone evidently restores her confidence. She takes the pledge and examines it, asking what it is. He tells her it is a silver cigarette case. She seems to suspect something and looks at him intently. He begins to feel that he is losing his head, that he is almost frightened, so frightened that if she were to look like that and not say a word for another half-minute, he thinks he would have to run away from her.\n",
      "\n",
      "Suddenly, without thinking, he pulls the axe quite out, swings it with both arms, and brings the blunt side down on her head. She cries out but very faintly, and suddenly sinks all of a heap on the floor, raising her hands to her head. He deals her another and another blow with the blunt side and on the same spot. The blood gushes as from an overturned glass, the body falls back. He steps back, lets it fall, and at once bends over her face; she is dead. He lays the axe on the ground near the dead body and feels at once in her pocket, trying to avoid the streaming body. He pulls out the keys at once, and they are all, as before, in one bunch on a steel ring. He runs at once into the bedroom with them.\n",
      "\n",
      "In the bedroom, he finds a small shrine of holy images and a big bed, very clean and covered with a silk patchwork wadded quilt. Against the third wall is a chest of drawers. He begins to fit the keys into the chest, and as he hears their jingling, a convulsive shudder passes over him. He suddenly feels tempted again to give it all up and go away. But that is only for an instant; it is too late to go back. He is positively smiling at himself when suddenly another terrifying idea occurs to his mind. He suddenly fancies that the old woman might be still alive and might recover her senses. Leaving the keys in the chest, he runs back to the body, snatches up the axe, and lifts it once more over the old woman, but does not bring it down. There is no doubt that she is dead. Bending down and examining her again, he sees that she is indeed dead.\n",
      "\n",
      "Raskolnikov has committed the murder he had planned, and he is now faced with the reality of his actions. The thrill of the act has passed, and he is left with the gruesome aftermath. He has taken the old woman's life, and there is no going back. He must now face the consequences of his actions, and the guilt and fear that come with them.\n",
      "Raskolnikov, the protagonist of Fyodor Dostoevsky's \"Crime and Punishment,\" has been lying in his room, suffering from an unknown ailment. During this time, various people come and go, including Nastasya, the landlady, and Razumihin, Raskolnikov's friend. Raskolnikov struggles to remember what has happened to him and why he is in this state.\n",
      "\n",
      "One day, a messenger from the office of merchant Shelopaev arrives with a remittance for Raskolnikov. The messenger explains that the money is sent at the request of Raskolnikov's mother. Raskolnikov initially refuses to sign for the money, but eventually complies. After receiving the money, Razumihin insists on feeding Raskolnikov, who is hungry. Nastasya brings soup and beer, and Razumihin feeds Raskolnikov as if he were a child.\n",
      "\n",
      "As Raskolnikov eats, Razumihin recounts how he has been searching for Raskolnikov since he disappeared. Razumihin has been visiting the police station, the address bureau, and Raskolnikov's old lodgings to find him. He has also become acquainted with various people in Raskolnikov's life, including the police inspector, the landlord, and the head clerk in the police office. Razumihin has also befriended Nastasya, the maid who takes care of Raskolnikov's room.\n",
      "\n",
      "Raskolnikov listens to Razumihin's story in silence, taking note of his surroundings. He is surprised to find that he is no longer on the floor, but on a sofa with clean pillows. He is also surprised to find that Razumihin has been taking care of him and has become friends with the people in his life.\n",
      "\n",
      "Overall, this passage from \"Crime and Punishment\" highlights Raskolnikov's physical and mental state as he lies in his room, unable to remember what has happened to him. The arrival of the messenger with the remittance from his mother serves as a catalyst for Raskolnikov's recovery, as Razumihin insists on feeding him and telling him about his search for Raskolnikov. Raskolnikov's gradual recovery is shown through his awareness of his surroundings and his ability to eat and drink again. The passage also highlights Razumihin's loyalty and dedication to finding and taking care of Raskolnikov, despite his initial reluctance to accept help.\n",
      "Raskolnikov, the protagonist of Fyodor Dostoevsky's \"Crime and Punishment,\" has been ill and is now recuperating in his small, sparse apartment. Razumihin, Raskolnikov's friend and advocate, has come to visit him, bringing with him new clothes and supplies that Raskolnikov had requested. Raskolnikov is initially resistant to Razumihin's attempts to help him, but eventually relents and allows him to change his linen.\n",
      "\n",
      "As Razumihin is changing Raskolnikov's clothes, a man named Zossimov, a doctor, enters the room. Zossimov is a tall, fat man with a puffy, colorless face and straight flaxen hair. He wears spectacles and a big gold ring on his fat finger. He is twenty-seven years old and is dressed in a fashionable coat, trousers, and linen. He is slow and nonchalant in manner, but studiously free and easy in his movements. He is said to be clever at his work, but his acquaintances find him tedious.\n",
      "\n",
      "Zossimov examines Raskolnikov and determines that he is physically well, but still depressed. He tells Raskolnikov that he may eat anything, but should avoid meat and mushrooms. Razumihin and Zossimov discuss plans for taking Raskolnikov on a walk the following day, and Zossimov extends an invitation for Raskolnikov to attend a house-warming party that evening. Razumihin accepts the invitation on Raskolnikov's behalf.\n",
      "\n",
      "Razumihin and Zossimov then discuss a case they have been working on involving a house-painter who has been accused of murdering a pawnbroker-woman and her sister. Razumihin is passionate in his defense of the painter, and is critical of the police for their handling of the case. He believes that the painter is innocent, and that the evidence against him is circumstantial.\n",
      "\n",
      "As Razumihin and Zossimov are discussing the case, a woman named Nastasya enters the room. She is a servant in the building, and has been listening to the conversation. She interjects with information about the pawnbroker-woman and her sister, who is revealed to be Lizaveta, a woman who used to mend Raskolnikov's shirts.\n",
      "\n",
      "Raskolnikov is initially unresponsive to the conversation, but eventually speaks up and asks about the painter. Razumihin explains that the painter was accused of the murder because he had sold some gold earrings to a pawnbroker, and that the earrings were later found to have belonged to the pawnbroker-woman. However, Razumihin believes that the earrings were not stolen by the painter, but were given to him by a man named Dushkin, who runs a dram-shop facing the house where the pawnbroker-woman lived.\n",
      "\n",
      "Razumihin goes on to explain that Dushkin is a pawnbroker and a receiver of stolen goods, and that he was afraid to keep the earrings, so he gave them to the police. Razumihin believes that the police are wrong to accuse the painter, and that they should be looking for the real killer.\n",
      "\n",
      "The conversation continues, with Razumihin and Zossimov discussing the flaws in the police's investigation and the need for a new, more psychological approach to solving crimes. Raskolnikov remains largely silent, lost in his own thoughts.\n",
      "\n",
      "This passage from \"Crime and Punishment\" introduces several important themes and characters that are prevalent throughout the novel. The theme of guilt and redemption is introduced through Raskolnikov's illness and his role in the murder of the pawnbroker-woman. The theme of justice and the flaws in the legal system are explored through the discussion of the painter's case. The characters of Razumihin and Zossimov are also introduced, and their personalities and beliefs are contrasted and compared. Overall, this passage sets the stage for the complex and thought-provoking narrative that follows.\n",
      "The passage is from Fyodor Dostoevsky's novel, \"Crime and Punishment,\" and it describes a scene in which the protagonist, Raskolnikov, comes across a drunkard named Marmeladov who has been run over by a carriage. Raskolnikov takes it upon himself to help Marmeladov and brings him to his home, where his wife, Katerina Ivanovna, and their children live in extreme poverty.\n",
      "\n",
      "The scene opens with Marmeladov's wife, Katerina Ivanovna, pacing back and forth in their small room, talking to herself and coughing. Their children, Polenka, a ten-year-old girl, and two younger children, are present. Polenka is undressing her younger brother, who is unwell, while the youngest child, Lida, stands by waiting for her turn. The family's dire circumstances are evident in their worn-out clothes and the lack of clean linen.\n",
      "\n",
      "Meanwhile, Raskolnikov brings Marmeladov to their home, and they lay him down on the sofa. Katerina Ivanovna immediately begins to undress and examine her husband, showing no signs of fainting or weakness, despite the distressing situation. Raskolnikov sends for a doctor and assures Katerina Ivanovna that he will pay for his services.\n",
      "\n",
      "The room quickly fills up with curious onlookers, and Katerina Ivanovna becomes angry at their lack of respect for her husband's situation. She orders her daughter, Polenka, to go to Sonya, Marmeladov's daughter from his first marriage, to inform her of her father's accident.\n",
      "\n",
      "The scene is chaotic and distressing, with Katerina Ivanovna's anger and frustration at the onlookers, Raskolnikov's attempts to help, and Marmeladov's dying breaths. The family's poverty and struggles are evident throughout the scene, as well as the love and care that Katerina Ivanovna has for her husband, despite his flaws.\n",
      "\n",
      "Overall, the passage is a poignant depiction of the harsh realities of poverty and the impact it has on families. The characters' emotions and actions are vividly described, creating a powerful and memorable scene.\n",
      "Raskolnikov's family, Pulcheria Alexandrovna and Avdotya Romanovna, also known as Dounia, have come to St. Petersburg to see him after a three-year separation. Raskolnikov is initially irritated by their presence and refuses to see them, but they insist on staying with him. Pulcheria Alexandrovna is overwhelmed with emotion at the sight of her son after such a long time, but Raskolnikov asks them about Luzhin, a man Dounia is supposed to marry. Raskolnikov expresses his disapproval of the marriage and tells Dounia to refuse Luzhin's proposal. Dounia is offended by her brother's interference in her personal matters and a heated argument ensues.\n",
      "\n",
      "Raskolnikov becomes agitated and Pulcheria Alexandrovna begs him to calm down. He lies down on the sofa, exhausted by the conversation. Pulcheria Alexandrovna wants to stay with her son, but Razumihin, a friend of Raskolnikov, persuades her to leave. He assures her that he will keep an eye on Raskolnikov and bring her news of his condition. He also promises to fetch Zossimov, the doctor who is looking after Raskolnikov.\n",
      "\n",
      "Pulcheria Alexandrovna is hesitant to leave her son, but she eventually agrees to go home with Dounia. Razumihin escorts them home and makes arrangements for Zossimov to spend the night at Raskolnikov's apartment. Razumihin is in an excited state and keeps squeezing Pulcheria Alexandrovna and Dounia's hands as he talks. He expresses his admiration for Dounia and tells them that he had a presentiment that they would meet.\n",
      "\n",
      "As they walk, Razumihin talks about his friends and his disdain for their philosophical ideas. He expresses his belief that people should be true to themselves and not try to be like someone else. He also talks about Zossimov's concerns about Raskolnikov's mental state. Pulcheria Alexandrovna is surprised to learn that Raskolnikov's mental health is a concern, and Dounia is worried about his well-being.\n",
      "\n",
      "Overall, the passage highlights the tension between Raskolnikov and his family, particularly his disapproval of Dounia's marriage. It also introduces Razumihin as a loyal friend who is willing to go to great lengths to help Raskolnikov. The passage also touches on the theme of individualism and the importance of being true to oneself.\n",
      "In this passage from Fyodor Dostoevsky's \"Crime and Punishment,\" Raskolnikov continues to grapple with the guilt and fear that consume him after committing a brutal murder. He has a tense conversation with his friend Razumihin, who is trying to help him, but Raskolnikov remains distant and irritable. Razumihin suggests that the police are trying to trap Raskolnikov with their questions, but Raskolnikov insists that he was clever enough to avoid their traps.\n",
      "\n",
      "As they speak, Raskolnikov becomes increasingly agitated and erratic, and he suddenly runs off, leaving Razumihin confused and worried. Raskolnikov rushes home and frantically searches his room for any evidence that might link him to the crime. Finding nothing, he calms down slightly, but he remains on edge.\n",
      "\n",
      "Soon after, a stranger approaches Raskolnikov and cryptically asks him if he is the murderer. Raskolnikov is taken aback and unable to speak, and the stranger repeats the accusation before walking away. Raskolnikov is left stunned and terrified, unsure of how to react or what to do next.\n",
      "\n",
      "He stumbles back to his room, where he lies down and falls into a fitful sleep. He is plagued by disturbing thoughts and images, unable to shake the feeling that he is being watched and pursued. Despite his best efforts to remain calm and in control, Raskolnikov is slowly succumbing to the weight of his guilt and the fear of being caught.\n",
      "\n",
      "Throughout this passage, Dostoevsky masterfully explores the complex emotions and motivations that drive Raskolnikov's actions. The character is consumed by guilt and fear, but he is also driven by a desire for power and control. He is a deeply conflicted and troubled individual, and his struggle to come to terms with his actions is at the heart of the novel.\n",
      "\n",
      "The passage also highlights the theme of surveillance and the loss of privacy. Raskolnikov is constantly watched and scrutinized, both by the police and by the strangers around him. This creates a sense of paranoia and unease, as Raskolnikov feels that he is never truly alone or safe.\n",
      "\n",
      "Overall, this passage is a powerful exploration of guilt, fear, and the human psyche. Dostoevsky's vivid and evocative prose brings the character of Raskolnikov to life, making for a compelling and thought-provoking reading experience.\n",
      "Raskolnikov has an unexpected encounter with Svidrigaïlov, a man whose wife had previously employed Raskolnikov's sister Dunya as a governess. Svidrigaïlov had made improper advances towards Dunya, leading to her dismissal. Following his wife's death, Svidrigaïlov has come to St. Petersburg and is now seeking a meeting with Dunya. He offers Raskolnikov a significant sum of money to give to Dunya, stating that he will marry another woman soon. Raskolnikov refuses to convey the message to Dunya and warns Svidrigaïlov not to approach her. Svidrigaïlov mentions that Dunya's late benefactress, Marfa Petrovna, had left her an inheritance of three thousand roubles in her will.\n",
      "\n",
      "Raskolnikov remains uneasy about the encounter, questioning whether it was real or a hallucination caused by his mental state. He shares his concerns with Razumihin, who confirms that he saw Svidrigaïlov as well. Raskolnikov then expresses his fear that he may be losing his sanity.\n",
      "\n",
      "Meanwhile, Razumihin has visited Porfiry, the investigator handling Raskolnikov's case, but found it difficult to discuss the matter with him. Razumihin decides that there is no need for Raskolnikov to be concerned about the investigation, as they will likely laugh about it in the future.\n",
      "\n",
      "In the evening, Raskolnikov's mother, Pulcheria Alexandrovna, and Dunya arrive at Raskolnikov's apartment. They are accompanied by Luzhin, Dunya's fiancé, whom she had previously rejected but has since reconciled with due to financial difficulties. Luzhin is a proud and formal man who becomes flustered when things do not go as planned. As they all sit down at the table, Pulcheria Alexandrovna brings up the topic of Svidrigaïlov's arrival in St. Petersburg, expressing concern for Dunya's safety. Luzhin reveals that he is already aware of the situation and is taking steps to find out where Svidrigaïlov is staying.\n",
      "The passage is from Fyodor Dostoevsky's novel, \"Crime and Punishment,\" and it features a conversation among several characters who are gathered in Pulcheria Alexandrovna's apartment. The group includes Pulcheria Alexandrovna, her daughter Avdotya Romanovna (Dounia), her son Rodya (Raskolnikov), Pyotr Petrovitch Luzhin, and Razumihin.\n",
      "\n",
      "The conversation begins with Pulcheria Alexandrovna introducing Razumihin to Luzhin. Pyotr Petrovitch is a man who is very polite in society but becomes disconcerted when he is crossed. The group is initially silent, and Raskolnikov remains obstinately mute. Pulcheria Alexandrovna brings up the topic of Marfa Petrovna's death and the fact that Arkady Ivanovitch Svidrigaïlov has come to Petersburg. Dounia becomes alarmed at the news, and Pulcheria Alexandrovna expresses her fear that Svidrigaïlov will not leave Dounia in peace.\n",
      "\n",
      "Pyotr Petrovitch informs the group that he has heard that Svidrigaïlov has pecuniary resources and may relapse into his old ways in Petersburg. He tells the group that he has learned that Svidrigaïlov had close and mysterious relations with a foreigner named Resslich, who lent money at interest. Svidrigaïlov had a niece living with Resslich, a deaf and dumb girl of fifteen, who was found hanging in the garret. Svidrigaïlov was suspected of cruelly outraging the girl, but the charge was not clearly established. Pyotr Petrovitch implies that Svidrigaïlov may have been involved in Marfa Petrovna's death.\n",
      "\n",
      "Dounia asks Pyotr Petrovitch if he has good evidence of Svidrigaïlov's involvement in the girl's death, and he replies that he is repeating what he was told in secret by Marfa Petrovna. Pyotr Petrovitch then turns the conversation to Luzhin's relationship with Dounia. He expresses his conviction that Svidrigaïlov will end in a debtor's prison and that Marfa Petrovna had no intention of settling anything substantial on him.\n",
      "\n",
      "Raskolnikov breaks his silence and informs the group that Svidrigaïlov came to see him and told him that Marfa Petrovna left Dounia three thousand roubles in her will. Dounia thanks God and asks Raskolnikov what else Svidrigaïlov said. Raskolnikov tells the group that Svidrigaïlov wants to meet with Dounia and make her a proposition.\n",
      "\n",
      "Pyotr Petrovitch looks at his watch and says that he has a business engagement. Dounia asks him not to go and tells him that she wants to have an explanation with him about his relationship with her brother. Pyotr Petrovitch refuses to speak openly in Raskolnikov's presence and says that he is not able to speak openly about certain matters of the greatest gravity. Dounia insists that the matter must be ended as soon as possible and that if Raskolnikov is to blame, he will ask Pyotr Petrovitch's forgiveness.\n",
      "\n",
      "Pyotr Petrovitch takes a stronger line and says that there are insults that cannot be forgotten. Dounia interrupts him and says that their whole future depends on whether the matter is explained and set right as soon as possible. Dounia tells Pyotr Petrovitch that if he has the least regard for her, all this business must be ended that day. Pyotr Petrovitch becomes irritated and says that Dounia's words are offensive in view of the position he occupies in relation to her. Dounia tells Pyotr Petrovitch that she must find out whether he is the husband for her.\n",
      "\n",
      "In summary, the passage features a conversation among several characters who are gathered in Pulcheria Alexandrovna's apartment. The conversation touches on various topics, including Svidrigaïlov's arrival in Petersburg, his relationship with Resslich and her niece, and his suspected involvement in Marfa Petrovna's death. The conversation also touches on Pyotr Petrovitch's relationship with Dounia and the matter of his insult to Raskolnikov. The passage is characterized by the various tensions and conflicts that exist among the characters.\n",
      "Raskolnikov, a troubled and impoverished former student, has recently become engaged to Avdotya Romanovna Raskolnikov, the sister of Rodion Romanovich Raskolnikov, the protagonist of Fyodor Dostoevsky's \"Crime and Punishment.\" However, their engagement is short-lived, as Pyotr Petrovitch Luzhin, a spiteful and manipulative man, quarrels with Raskolnikov and falsely accuses Sonia, a close friend of Raskolnikov, of theft.\n",
      "\n",
      "The passage begins with Raskolnikov explaining the circumstances leading up to the altercation between Luzhin and himself. He recounts how Luzhin, in an attempt to estrange Raskolnikov from his family and take revenge on Raskolnikov, spread false rumors about Sonia's character and accused her of theft. Raskolnikov defends Sonia's honor and refutes Luzhin's accusations, leading to a heated argument and Luzhin's eventual expulsion from the Raskolnikov household.\n",
      "\n",
      "Lebeziatnikov, a witness to the events, confirms Raskolnikov's account and notes that Luzhin had been particularly interested in knowing Raskolnikov's whereabouts on the day of the altercation. Luzhin, confronted with the accusations, remains silent and appears pale and contemplative.\n",
      "\n",
      "The commotion draws a crowd of onlookers, including Sonia, Katerina Ivanovna, and Amalia Ivanovna, the landlady. Raskolnikov attempts to speak, but the crowd's anger towards Luzhin prevents him from doing so. Luzhin, undeterred by the threats and insults, defiantly proclaims his intent to prosecute Sonia and clear his name.\n",
      "\n",
      "In a fit of rage, the commissariat clerk throws a glass at Luzhin, but it mistakenly hits Amalia Ivanovna. Luzhin seizes the opportunity to escape, leaving the scene as Amalia Ivanovna screams in pain.\n",
      "\n",
      "The altercation takes a heavy toll on Sonia, who has always been timid and fearful of being wronged. The trauma of the event triggers a wave of emotions, and she breaks down in tears. Unable to bear the humiliation and injustice, she rushes out of the room and runs home.\n",
      "\n",
      "Katerina Ivanovna, already weakened by exhaustion and grief, is further devastated when Amalia Ivanovna turns her out of the lodgings on the day of her husband's funeral. Driven by desperation and a desire for justice, Katerina Ivanovna leaves the lodgings, determined to find help and support for herself and her children.\n",
      "\n",
      "Raskolnikov, who had initially left the scene feeling triumphant and defiant, experiences a sudden surge of fear and impotence as he approaches Sonia's lodgings. He is overwhelmed by the thought of having to reveal the truth about Lizaveta's murder to Sonia, a burden he has been carrying with him.\n",
      "\n",
      "Upon entering Sonia's room, Raskolnikov finds her sitting with her face in her hands, appearing to be lost in thought. Sonia, grateful for Raskolnikov's support and defense, quickly approaches him and expresses her relief at his presence. Raskolnikov, still grappling with the weight of his secret, takes a seat and prepares himself for the inevitable confrontation with Sonia.\n",
      "Sonia's face grew increasingly pale, and she breathed with difficulty. \"I know,\" she finally said. After a brief pause, she asked, \"Have they found him?\" Raskolnikov replied, \"No.\" Confused, she asked again how he knew. He responded by telling her to guess. A shudder passed over her, and she asked why he was frightening her. Raskolnikov looked intently at her and revealed that Raskolnikov had not intended to kill Lizaveta, but had done so accidentally. He had meant to kill the old woman when she was alone, but Lizaveta had come in. In a moment of terror, Raskolnikov confessed, Sonia recognized the expression on Raskolnikov's face as the same one Lizaveta had worn in her final moments. Sonia realized that Raskolnikov had killed Lizaveta in the same way that Raskolnikov had killed the old woman – with an axe. Sonia's terror infected Raskolnikov, and he stared back at her with the same expression. \"Have you guessed?\" he whispered. \"Good God!\" Sonia cried, falling helplessly onto the bed. She then got up, moved quickly to him, and threw her arms around him, weeping hysterically. Raskolnikov looked at her with a mournful smile. \"You are a strange girl, Sonia,\" he said. \"You kiss me and hug me when I tell you about that…. You don't think what you are doing.\" Sonia, overwhelmed by her sympathy for Raskolnikov, declared that she would follow him wherever he went, even to Siberia. Horrified by the murder, she then asked why Raskolnikov had brought himself to commit such a crime. At first, Raskolnikov answered simply, \"to plunder,\" but Sonia was not satisfied. She asked if it was to help his mother. \"No, Sonia, no,\" he responded. \"I certainly did want to help my mother, but … that's not the real thing either…. Don't torture me, Sonia.\" Sonia clasped her hands. \"Could it, could it all be true?\" she wondered. \"Good God, what a truth! Who could believe it? And how could you give away your last farthing and yet rob and murder! Ah,\" she cried suddenly, \"that money you gave Katerina Ivanovna … that money…. Can that money …\" \"No, Sonia,\" he broke in hurriedly, \"that money was not it. Don't worry yourself! That money my mother sent me and it came when I was ill, the day I gave it to you…. Razumihin saw it … he received it for me…. That money was mine—my own.\" Sonia listened in bewilderment and did her utmost to comprehend. Raskolnikov then added that he had not even looked inside the purse he had taken from Lizaveta; he had simply buried it under a stone with the purse next morning in a yard off the V—— Prospect. All of these details overwhelmed Sonia, and she struggled to understand. She could not believe that Raskolnikov, a man she respected, had committed such a heinous crime. Raskolnikov looked at her with anguish and asked if she would leave him. \"No, no, never, nowhere!\" she cried. \"I will follow you, I will follow you everywhere. Oh, my God! Oh, how miserable I am! … Why, why didn't I know you before! Why didn't you come before? Oh, dear!\" \"Here I have come,\" he responded. \"Then you won't leave me, Sonia?\" he begged. \"No, no, never, nowhere!\" she cried. \"I will follow you, I will follow you everywhere. Oh, my God! Oh, how miserable I am! … Why, why didn't I know you before! Why didn't you come before? Oh, dear!\" \"Here I have come,\" he responded. \"Then you won't leave me, Sonia?\" he begged. \"No, no, never, nowhere!\" she cried. \"I will follow you, I will follow you everywhere. Oh, my God! Oh, how miserable I am! … Why, why didn't I know you before! Why didn't you come before? Oh, dear!\" \"Here I have come,\" he responded.\n",
      "The passage is an excerpt from Fyodor Dostoevsky's \"Crime and Punishment,\" and it recounts the conversation between Porfiry Petrovitch, the investigator, and Raskolnikov, the protagonist, who has committed a heinous crime.\n",
      "\n",
      "Porfiry Petrovitch reveals to Raskolnikov that he knows he is the murderer, and Raskolnikov, initially in denial, eventually admits to himself that he is, indeed, the one who committed the crime. However, Raskolnikov refuses to confess and engages in a heated argument with Porfiry Petrovitch, who tries to persuade him to surrender and confess. Raskolnikov, still clinging to his theory that he is a \"superior\" individual who has the right to commit crimes, refuses to confess, arguing that he would be safer in prison.\n",
      "\n",
      "Porfiry Petrovitch tries to convince Raskolnikov that confessing would be in his best interest, as it would shorten his sentence and allow him to start anew. He tells Raskolnikov that he has a \"little fact\" that points to him as the murderer, but he does not reveal what it is. Raskolnikov remains skeptical and maintains his innocence, despite the mounting evidence against him.\n",
      "\n",
      "The passage is significant because it marks a turning point in Raskolnikov's character development. Up until this point, he has been struggling with his guilt and denying his responsibility for the crime. However, Porfiry Petrovitch's revelation forces him to confront the reality of his actions and the consequences that come with them.\n",
      "\n",
      "Porfiry Petrovitch's character is also significant in this passage. He is portrayed as a wise and compassionate individual who is trying to help Raskolnikov see the error of his ways. He speaks to Raskolnikov with understanding and empathy, trying to persuade him to confess and start anew. His approach is in stark contrast to Raskolnikov's initial denial and refusal to take responsibility for his actions.\n",
      "\n",
      "In conclusion, the passage is a powerful exploration of guilt, denial, and the consequences of one's actions. It highlights the importance of taking responsibility for one's mistakes and the role that empathy and compassion can play in the healing process. Through the characters of Raskolnikov and Porfiry Petrovitch, Dostoevsky masterfully portrays the complexities of the human psyche and the power of redemption.\n",
      "The passage is from Fyodor Dostoevsky's novel, \"Crime and Punishment,\" and it describes a series of encounters between several characters in the story. The scene opens with Raskolnikov encountering Svidrigaïlov, who tries to offer him a ride in a carriage. Raskolnikov suspects Svidrigaïlov of having ill intentions towards his sister, Dunya, and refuses the offer. Afterward, Raskolnikov sees Dunya standing by the railing on a bridge, but he does not notice that she is there. Instead, he continues to walk, deep in thought. Dunya is shocked to see her brother in such a state and wonders if she should call out to him.\n",
      "\n",
      "Meanwhile, Svidrigaïlov approaches Dunya and signals for her to come to him. She does, and he tells her that he has been sitting with Raskolnikov in a restaurant and that he suspects something. Dunya asks Svidrigaïlov what he wants from her, and he tells her that she must come with him to meet Sofya Semyonovna. Dunya refuses, and Svidrigaïlov threatens to reveal a secret about Raskolnikov if she does not comply.\n",
      "\n",
      "Dunya hesitates, but eventually agrees to go with Svidrigaïlov. He takes her to Sofya Semyonovna's apartment, where they find that she is not home. Svidrigaïlov tells Dunya that he has been listening to Raskolnikov and Sofya Semyonovna's conversations through a locked door. He reveals that Raskolnikov confessed to murdering a pawnbroker and her sister, and that he did it to rob them. Dunya refuses to believe it, but Svidrigaïlov insists that it is true.\n",
      "\n",
      "The passage is significant because it reveals important information about Raskolnikov's character and his state of mind. It also sets up the tension between Svidrigaïlov and Dunya, as well as the mystery surrounding Raskolnikov's actions. The passage also highlights the theme of morality and the consequences of one's actions.\n",
      "\n",
      "In conclusion, the passage is a crucial part of the novel as it sets up the plot and introduces important characters and themes. The writing style is descriptive and engaging, drawing the reader into the story and making them want to find out what happens next. Overall, the passage is a great example of Dostoevsky's writing and his ability to create complex and engaging narratives.\n",
      "Raskolnikov, the protagonist of Fyodor Dostoevsky's \"Crime and Punishment,\" has committed a heinous crime - the murder of an old pawnbroker. However, he is plagued by guilt and the fear of being caught. In the passage provided, Raskolnikov's mental turmoil is heightened by his interactions with his mother, sister, and Sonya, a prostitute who has shown him kindness.\n",
      "\n",
      "Raskolnikov's mother, Pulcheria Alexandrovna, has a premonition of trouble and is deeply concerned about her son's well-being. She expresses her love and worry, and Raskolnikov is overwhelmed by emotion, regretting his decision to visit her. Despite not explicitly revealing his crime, his mother seems to intuitively understand that something is amiss.\n",
      "\n",
      "Upon returning home, Raskolnikov finds his sister, Dunya, waiting for him. She has been staying with Sonya, who also knows about Raskolnikov's crime. The tension between brother and sister is palpable as they dance around the subject of his guilt. Raskolnikov confesses to aimlessly wandering the night before, considering suicide but unable to follow through.\n",
      "\n",
      "Dunya, filled with relief that her brother has not taken his own life, expresses gratitude for his continued faith in life. However, Raskolnikov's response is bitter and cynical, stating that he has no faith but is simply too proud to succumb to disgrace. He admits to weeping in his mother's arms and asking her to pray for him.\n",
      "\n",
      "Raskolnikov's conversation with his sister reveals the depth of his guilt and despair. He confesses to having no clear plan for the future, other than to face the consequences of his actions. He speaks of his pride, which he sees as both a strength and a weakness, and he questions the morality of his actions. He grapples with the concept of justice, wondering if his punishment fits his crime.\n",
      "\n",
      "Dunya, though devastated by her brother's actions, remains a source of strength and support. She forgives Raskolnikov and embraces him, expressing her love and admiration for his willingness to face suffering. Despite his remorse, Raskolnikov remains defiant, refusing to fully acknowledge the gravity of his crime.\n",
      "\n",
      "In the end, Raskolnikov is left alone with his thoughts, consumed by guilt and anger. He considers the long, difficult road ahead and questions the purpose of his punishment. Despite his inner turmoil, he resolves to face the consequences of his actions, ultimately setting the stage for his journey toward redemption.\n",
      "\n",
      "Throughout the passage, Dostoevsky masterfully explores the complexities of guilt, shame, and redemption. The characters' emotions are raw and authentic, providing a powerful examination of the human condition in the face of adversity. Raskolnikov's struggle to come to terms with his actions serves as a stark reminder of the consequences of moral compromise.\n"
     ]
    }
   ],
   "source": [
    "# Testing the summarizer\n",
    "if __name__ == '__main__':\n",
    "    load_dotenv()\n",
    "    openai_api_key = os.getenv('OPENAI_API_KEY')\n",
    "    # book_path = \"C:/Users/Admin/Downloads/task/book.pdf\"\n",
    "    # with open(book_path, 'rb') as uploaded_file:\n",
    "    summary = generate_summary('crime-and-punishment.pdf', openai_api_key, verbose=True)\n",
    "    print(summary)"
   ]
  },
  {
   "cell_type": "code",
   "execution_count": 90,
   "metadata": {},
   "outputs": [
    {
     "name": "stdout",
     "output_type": "stream",
     "text": [
      "Here is a cohesive summary of the book \"Crime and Punishment\" by Fyodor Dostoevsky, based on the provided sections:\n",
      "\n",
      "The story revolves around Raskolnikov, a poverty-stricken student who visits a pawnbroker, Alyona Ivanovna, to redeem a pledge. He becomes obsessed with the idea of murdering her and stealing her wealth, which he believes will solve his financial problems. Raskolnikov's mental state deteriorates as he becomes increasingly isolated and struggles with his own morality.\n",
      "\n",
      "Meanwhile, Razumihin, a friend of Raskolnikov, takes it upon himself to care for Raskolnikov's mother, Pulcheria Alexandrovna, and sister, Avdotya Romanovna, after their harrowing encounter with Raskolnikov. Razumihin demonstrates his trustworthiness and capability, promising to update them on Raskolnikov's condition and bringing a doctor to assess him.\n",
      "\n",
      "As the story unfolds, Raskolnikov's relationships with his family and others become increasingly strained. He becomes embroiled in a murder investigation, and his anxiety grows as he is questioned by Porfiry, a high-ranking police officer. Raskolnikov's guilt and paranoia intensify, leading to a dramatic confession and subsequent arrest.\n",
      "\n",
      "Throughout the novel, Svidrigaïlov, a mysterious and manipulative figure, appears, sharing his past experiences of manipulating women and revealing his plans to propose to a young girl. Raskolnikov becomes suspicious of Svidrigaïlov's intentions towards his sister, Avdotya.\n",
      "\n",
      "Ultimately, the novel explores themes of morality, guilt, and redemption as Raskolnikov grapples with the consequences of his actions. The story concludes with Raskolnikov's confession and arrest, leaving the reader to ponder the consequences of his actions and the impact they have had on those around him.\n"
     ]
    }
   ],
   "source": [
    "summary2 = create_final_summary(summary)\n",
    "print(summary2)"
   ]
  },
  {
   "cell_type": "markdown",
   "metadata": {},
   "source": [
    "## generating a pdf summary file"
   ]
  },
  {
   "cell_type": "code",
   "execution_count": 138,
   "metadata": {},
   "outputs": [],
   "source": [
    "from reportlab.lib.pagesizes import letter\n",
    "from reportlab.lib import colors\n",
    "from reportlab.platypus import SimpleDocTemplate, Paragraph, Spacer\n",
    "from reportlab.lib.styles import getSampleStyleSheet, ParagraphStyle\n",
    "\n",
    "def save_text_response_to_pdf(text_response, filename):\n",
    "    # Create a PDF document\n",
    "    doc = SimpleDocTemplate(filename, pagesize=letter)\n",
    "\n",
    "    # Create a list to hold the flowables (elements that can be added to the PDF)\n",
    "    flowables = []\n",
    "\n",
    "    # Create a sample stylesheet\n",
    "    styles = getSampleStyleSheet()\n",
    "\n",
    "    # Define a custom ParagraphStyle with desired alignment and spacing\n",
    "    custom_style = ParagraphStyle(\n",
    "        name='CustomStyle',\n",
    "        parent=styles['Normal'],\n",
    "        alignment=0,  # Center alignment (0=left, 1=center, 2=right)\n",
    "        spaceAfter=12  # Space after each paragraph\n",
    "    )\n",
    "\n",
    "    # Add paragraphs to the flowables list\n",
    "    for paragraph in text_response.split('\\n\\n'):  # Split by double newline for paragraphs\n",
    "        flowables.append(Paragraph(paragraph.strip(), custom_style))\n",
    "        flowables.append(Spacer(1, 12))  # Add spacer for spacing between paragraphs\n",
    "\n",
    "    # Add the flowables to the document\n",
    "    doc.build(flowables)\n",
    "\n",
    "\n",
    "save_text_response_to_pdf(summary, \"summary.pdf\")\n"
   ]
  }
 ],
 "metadata": {
  "kernelspec": {
   "display_name": "geminipro",
   "language": "python",
   "name": "python3"
  },
  "language_info": {
   "codemirror_mode": {
    "name": "ipython",
    "version": 3
   },
   "file_extension": ".py",
   "mimetype": "text/x-python",
   "name": "python",
   "nbconvert_exporter": "python",
   "pygments_lexer": "ipython3",
   "version": "3.10.0"
  }
 },
 "nbformat": 4,
 "nbformat_minor": 2
}
