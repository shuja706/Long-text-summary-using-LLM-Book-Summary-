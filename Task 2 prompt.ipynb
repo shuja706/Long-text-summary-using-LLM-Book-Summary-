{
 "cells": [
  {
   "cell_type": "code",
   "execution_count": null,
   "metadata": {},
   "outputs": [],
   "source": [
    "Prompt = \"\"\"\n",
    "you are an expert to write personalized study plans for students!  You are given each students profile in csv file named students and it \n",
    "has following columns - Name,Field_of_study, Year_of_study,List_of_subjects,Preferred_Learning_Styles,Personal_Objectives,Challenges,Extracurricular_activities   \\n\\n\n",
    "Your task is to thoroughly analyze the wide range of individuals data and write study plan considering each student needs an \n",
    "aspiration along with their academic requirements. \\n\\n\n",
    "Study plan should also be according to individual students academic performance in different subjects, and as per their learning preferences (ie.. visual, kinesthetic, auditory), extracurricular activities, and distinct personal objectives or challenges (such as preparing for a specific exam or overcoming a learning difficulty).\n",
    "'''{profiles}'''\n",
    "\"\"\"\n"
   ]
  }
 ],
 "metadata": {
  "language_info": {
   "name": "python"
  }
 },
 "nbformat": 4,
 "nbformat_minor": 2
}
